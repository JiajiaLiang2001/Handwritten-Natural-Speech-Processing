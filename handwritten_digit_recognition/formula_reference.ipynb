{
 "cells": [
  {
   "cell_type": "markdown",
   "source": [
    "$softmax$ 函数：\n",
    "\n",
    "$$\n",
    "\\sigma(\\mathbf{z})_j=\\frac{e^{z_j}}{\\sum_{k=1}^K e^{z_k}} \\quad \\text { for } j=1, \\ldots, K\n",
    "$$"
   ],
   "metadata": {
    "collapsed": false,
    "pycharm": {
     "name": "#%% md\n"
    }
   }
  },
  {
   "cell_type": "markdown",
   "source": [
    "Cross Entropy Loss Function（交叉熵损失函数）：\n",
    "\n",
    "- 二分类的损失函数：\n",
    "\n",
    "$$\n",
    "L=\\frac{1}{N} \\sum_i L_i=-\\frac{1}{N} \\sum_i\\left[y_i \\cdot \\log \\left(p_i\\right)+\\left(1-y_i\\right) \\cdot \\log \\left(1-p_i\\right)\\right]\n",
    "$$\n",
    "\n",
    "$y_i$：样本 $i$ 的 $label$，正类为 $1$，负类为$0$\n",
    "$p_i$：样本 $i$ 预测为正类的概率\n",
    "\n",
    "- 多分类的损失函数\n",
    "\n",
    "$$\n",
    "L=\\frac{1}{N} \\sum_i L_i=-\\frac{1}{N} \\sum_i \\sum_{c=1}^M y_{i c} \\log \\left(p_{i c}\\right)\n",
    "$$\n",
    "\n",
    "$y_{i c}$：样本 $i$ 的真实类别等于 $c$ 取 $1$，否则取 $0$\n",
    "$p_i$：样本 $i$ 预测为类别 $c$ 的概率\n"
   ],
   "metadata": {
    "collapsed": false,
    "pycharm": {
     "name": "#%% md\n"
    }
   }
  },
  {
   "cell_type": "code",
   "execution_count": 2,
   "outputs": [
    {
     "name": "stderr",
     "output_type": "stream",
     "text": [
      "D:\\anaconda3\\envs\\pytorch\\lib\\site-packages\\tqdm\\auto.py:21: TqdmWarning: IProgress not found. Please update jupyter and ipywidgets. See https://ipywidgets.readthedocs.io/en/stable/user_install.html\n",
      "  from .autonotebook import tqdm as notebook_tqdm\n"
     ]
    },
    {
     "name": "stdout",
     "output_type": "stream",
     "text": [
      "<module 'torch.optim' from 'D:\\\\anaconda3\\\\envs\\\\pytorch\\\\lib\\\\site-packages\\\\torch\\\\optim\\\\__init__.py'>\n",
      "<module 'torch.optim' from 'D:\\\\anaconda3\\\\envs\\\\pytorch\\\\lib\\\\site-packages\\\\torch\\\\optim\\\\__init__.py'>\n"
     ]
    }
   ],
   "source": [
    "import torch\n",
    "print(torch.optim)"
   ],
   "metadata": {
    "collapsed": false,
    "pycharm": {
     "name": "#%%\n"
    }
   }
  },
  {
   "cell_type": "code",
   "execution_count": null,
   "outputs": [],
   "source": [],
   "metadata": {
    "collapsed": false,
    "pycharm": {
     "name": "#%%\n"
    }
   }
  }
 ],
 "metadata": {
  "kernelspec": {
   "display_name": "Python 3",
   "language": "python",
   "name": "python3"
  },
  "language_info": {
   "codemirror_mode": {
    "name": "ipython",
    "version": 2
   },
   "file_extension": ".py",
   "mimetype": "text/x-python",
   "name": "python",
   "nbconvert_exporter": "python",
   "pygments_lexer": "ipython2",
   "version": "2.7.6"
  }
 },
 "nbformat": 4,
 "nbformat_minor": 0
}