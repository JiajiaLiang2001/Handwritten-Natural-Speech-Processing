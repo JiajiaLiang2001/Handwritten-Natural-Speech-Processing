{
 "cells": [
  {
   "cell_type": "code",
   "execution_count": 32,
   "outputs": [],
   "source": [
    "import os\n",
    "from handwritten_digit_recognition import *\n",
    "from dataset_dataloader.dataset_dataloader import MyDataset"
   ],
   "metadata": {
    "collapsed": false,
    "pycharm": {
     "name": "#%%\n"
    }
   }
  },
  {
   "cell_type": "code",
   "execution_count": 33,
   "outputs": [],
   "source": [
    "np.random.seed(1000)\n",
    "\n",
    "train_data = load_images(\n",
    "    os.path.join(\"..\", \"data\", \"handwritten_digit_recognition\", \"train-images.idx3-ubyte\")) / 255\n",
    "train_label = onehot(load_labels(\n",
    "    os.path.join(\"..\", \"data\", \"handwritten_digit_recognition\", \"train-labels.idx1-ubyte\")))\n",
    "\n",
    "validation_data = load_images(\n",
    "    os.path.join(\"..\", \"data\", \"handwritten_digit_recognition\", \"t10k-images.idx3-ubyte\")) / 255\n",
    "validation_label = load_labels(\n",
    "    os.path.join(\"..\", \"data\", \"handwritten_digit_recognition\", \"t10k-labels.idx1-ubyte\"))"
   ],
   "metadata": {
    "collapsed": false,
    "pycharm": {
     "name": "#%%\n"
    }
   }
  },
  {
   "cell_type": "code",
   "execution_count": 34,
   "outputs": [],
   "source": [
    "epoch = 10\n",
    "batch_size = 100\n",
    "hidden_size = 256\n",
    "\n",
    "dataset = MyDataset(train_data, train_label, batch_size=batch_size, shuffle=True)"
   ],
   "metadata": {
    "collapsed": false,
    "pycharm": {
     "name": "#%%\n"
    }
   }
  },
  {
   "cell_type": "code",
   "execution_count": 35,
   "outputs": [
    {
     "name": "stdout",
     "output_type": "stream",
     "text": [
      "93.97%\n"
     ]
    }
   ],
   "source": [
    "layers = [\n",
    "    Linear(784, hidden_size),\n",
    "    Sigmoid(),\n",
    "    Linear(hidden_size, 10),\n",
    "    Softmax()\n",
    "]\n",
    "model = Model(layers)\n",
    "adam_opt = Adam(model.parameters(), 0.001)\n",
    "optimizer = adam_opt\n",
    "for e in range(epoch):\n",
    "    for X, y in dataset:\n",
    "        model(X, y)\n",
    "        model.backward()\n",
    "        optimizer.step()\n",
    "        optimizer.zero_grad()\n",
    "    accuracy = calculation_accuracy(validation_data, validation_label, model)\n",
    "print(f\"{accuracy:.2f}%\")"
   ],
   "metadata": {
    "collapsed": false,
    "pycharm": {
     "name": "#%%\n"
    }
   }
  },
  {
   "cell_type": "code",
   "execution_count": 36,
   "outputs": [
    {
     "name": "stdout",
     "output_type": "stream",
     "text": [
      "94.43%\n"
     ]
    }
   ],
   "source": [
    "zero_step = 2\n",
    "layers = [\n",
    "    Linear(784, hidden_size),\n",
    "    Sigmoid(),\n",
    "    Linear(hidden_size, 10),\n",
    "    Softmax()\n",
    "]\n",
    "model = Model(layers)\n",
    "adam_opt = Adam(model.parameters(), 0.001)\n",
    "optimizer = adam_opt\n",
    "for e in range(epoch):\n",
    "    for i, (X, y) in enumerate(dataset, 1):\n",
    "        model(X, y)\n",
    "        model.backward()\n",
    "        optimizer.step()\n",
    "        if i % zero_step == 0:\n",
    "            optimizer.zero_grad()\n",
    "    accuracy = calculation_accuracy(validation_data, validation_label, model)\n",
    "print(f\"{accuracy:.2f}%\")"
   ],
   "metadata": {
    "collapsed": false,
    "pycharm": {
     "name": "#%%\n"
    }
   }
  },
  {
   "cell_type": "code",
   "execution_count": 37,
   "outputs": [
    {
     "name": "stdout",
     "output_type": "stream",
     "text": [
      "94.22%\n"
     ]
    }
   ],
   "source": [
    "max_lr = 0.002\n",
    "min_lr = 1e-6\n",
    "layers = [\n",
    "    Linear(784, hidden_size),\n",
    "    Sigmoid(),\n",
    "    Linear(hidden_size, 10),\n",
    "    Softmax()\n",
    "]\n",
    "model = Model(layers)\n",
    "adam_opt = Adam(model.parameters(), max_lr)\n",
    "optimizer = adam_opt\n",
    "for e in range(epoch):\n",
    "    optimizer.lr = max_lr - (max_lr - min_lr) / epoch * e\n",
    "    for X, y in dataset:\n",
    "        model(X, y)\n",
    "        model.backward()\n",
    "        optimizer.step()\n",
    "        optimizer.zero_grad()\n",
    "    accuracy = calculation_accuracy(validation_data, validation_label, model)\n",
    "print(f\"{accuracy:.2f}%\")"
   ],
   "metadata": {
    "collapsed": false,
    "pycharm": {
     "name": "#%%\n"
    }
   }
  },
  {
   "cell_type": "code",
   "execution_count": 40,
   "outputs": [
    {
     "name": "stdout",
     "output_type": "stream",
     "text": [
      "93.60%\n"
     ]
    },
    {
     "ename": "KeyboardInterrupt",
     "evalue": "",
     "output_type": "error",
     "traceback": [
      "\u001B[1;31m---------------------------------------------------------------------------\u001B[0m",
      "\u001B[1;31mKeyboardInterrupt\u001B[0m                         Traceback (most recent call last)",
      "Cell \u001B[1;32mIn[40], line 15\u001B[0m\n\u001B[0;32m     13\u001B[0m     model(X, y)\n\u001B[0;32m     14\u001B[0m     model\u001B[38;5;241m.\u001B[39mbackward()\n\u001B[1;32m---> 15\u001B[0m     \u001B[43moptimizer\u001B[49m\u001B[38;5;241;43m.\u001B[39;49m\u001B[43mstep\u001B[49m\u001B[43m(\u001B[49m\u001B[43m)\u001B[49m\n\u001B[0;32m     16\u001B[0m     optimizer\u001B[38;5;241m.\u001B[39mzero_grad()\n\u001B[0;32m     17\u001B[0m accuracy \u001B[38;5;241m=\u001B[39m calculation_accuracy(validation_data, validation_label, model)\n",
      "File \u001B[1;32m~\\Desktop\\Handwritten-Natural-Speech-Processing\\handwritten_digit_recognition\\handwritten_digit_recognition.py:241\u001B[0m, in \u001B[0;36mAdam.step\u001B[1;34m(self)\u001B[0m\n\u001B[0;32m    239\u001B[0m param\u001B[38;5;241m.\u001B[39mm \u001B[38;5;241m=\u001B[39m \u001B[38;5;28mself\u001B[39m\u001B[38;5;241m.\u001B[39mbeta1 \u001B[38;5;241m*\u001B[39m param\u001B[38;5;241m.\u001B[39mm \u001B[38;5;241m+\u001B[39m (\u001B[38;5;241m1\u001B[39m \u001B[38;5;241m-\u001B[39m \u001B[38;5;28mself\u001B[39m\u001B[38;5;241m.\u001B[39mbeta1) \u001B[38;5;241m*\u001B[39m g_t\n\u001B[0;32m    240\u001B[0m param\u001B[38;5;241m.\u001B[39mv \u001B[38;5;241m=\u001B[39m \u001B[38;5;28mself\u001B[39m\u001B[38;5;241m.\u001B[39mbeta2 \u001B[38;5;241m*\u001B[39m param\u001B[38;5;241m.\u001B[39mv \u001B[38;5;241m+\u001B[39m (\u001B[38;5;241m1\u001B[39m \u001B[38;5;241m-\u001B[39m \u001B[38;5;28mself\u001B[39m\u001B[38;5;241m.\u001B[39mbeta2) \u001B[38;5;241m*\u001B[39m g_t \u001B[38;5;241m*\u001B[39m g_t\n\u001B[1;32m--> 241\u001B[0m mt_ \u001B[38;5;241m=\u001B[39m \u001B[43mparam\u001B[49m\u001B[38;5;241;43m.\u001B[39;49m\u001B[43mm\u001B[49m\u001B[43m \u001B[49m\u001B[38;5;241;43m/\u001B[39;49m\u001B[43m \u001B[49m\u001B[43m(\u001B[49m\u001B[38;5;241;43m1\u001B[39;49m\u001B[43m \u001B[49m\u001B[38;5;241;43m-\u001B[39;49m\u001B[43m \u001B[49m\u001B[38;5;28;43mself\u001B[39;49m\u001B[38;5;241;43m.\u001B[39;49m\u001B[43mbeta1\u001B[49m\u001B[43m \u001B[49m\u001B[38;5;241;43m*\u001B[39;49m\u001B[38;5;241;43m*\u001B[39;49m\u001B[43m \u001B[49m\u001B[38;5;28;43mself\u001B[39;49m\u001B[38;5;241;43m.\u001B[39;49m\u001B[43mt\u001B[49m\u001B[43m)\u001B[49m\n\u001B[0;32m    242\u001B[0m vt_ \u001B[38;5;241m=\u001B[39m param\u001B[38;5;241m.\u001B[39mv \u001B[38;5;241m/\u001B[39m (\u001B[38;5;241m1\u001B[39m \u001B[38;5;241m-\u001B[39m \u001B[38;5;28mself\u001B[39m\u001B[38;5;241m.\u001B[39mbeta2 \u001B[38;5;241m*\u001B[39m\u001B[38;5;241m*\u001B[39m \u001B[38;5;28mself\u001B[39m\u001B[38;5;241m.\u001B[39mt)\n\u001B[0;32m    243\u001B[0m param\u001B[38;5;241m.\u001B[39mweight \u001B[38;5;241m=\u001B[39m param\u001B[38;5;241m.\u001B[39mweight \u001B[38;5;241m-\u001B[39m \u001B[38;5;28mself\u001B[39m\u001B[38;5;241m.\u001B[39mlr \u001B[38;5;241m*\u001B[39m mt_ \u001B[38;5;241m/\u001B[39m (np\u001B[38;5;241m.\u001B[39msqrt(vt_) \u001B[38;5;241m+\u001B[39m \u001B[38;5;28mself\u001B[39m\u001B[38;5;241m.\u001B[39me)\n",
      "\u001B[1;31mKeyboardInterrupt\u001B[0m: "
     ]
    }
   ],
   "source": [
    "layers = [\n",
    "    Linear(784, hidden_size),\n",
    "    Sigmoid(),\n",
    "    Relu(),\n",
    "    Linear(hidden_size, 10),\n",
    "    Softmax()\n",
    "]\n",
    "model = Model(layers)\n",
    "adam_opt = Adam(model.parameters(), 0.001)\n",
    "optimizer = adam_opt\n",
    "for e in range(epoch):\n",
    "    for X, y in dataset:\n",
    "        model(X, y)\n",
    "        model.backward()\n",
    "        optimizer.step()\n",
    "        optimizer.zero_grad()\n",
    "    accuracy = calculation_accuracy(validation_data, validation_label, model)\n",
    "print(f\"{accuracy:.2f}%\")"
   ],
   "metadata": {
    "collapsed": false,
    "pycharm": {
     "name": "#%%\n"
    }
   }
  },
  {
   "cell_type": "code",
   "execution_count": null,
   "outputs": [
    {
     "name": "stdout",
     "output_type": "stream",
     "text": [
      "91.86%\n"
     ]
    }
   ],
   "source": [
    "layers = [\n",
    "    Linear(784, hidden_size),\n",
    "    Sigmoid(),\n",
    "    Dropout(),\n",
    "    Linear(hidden_size, 10),\n",
    "    Softmax()\n",
    "]\n",
    "model = Model(layers)\n",
    "adam_opt = Adam(model.parameters(), 0.001)\n",
    "optimizer = adam_opt\n",
    "for e in range(epoch):\n",
    "    for X, y in dataset:\n",
    "        model(X, y)\n",
    "        model.backward()\n",
    "        optimizer.step()\n",
    "        optimizer.zero_grad()\n",
    "    accuracy = calculation_accuracy(validation_data, validation_label, model)\n",
    "print(f\"{accuracy:.2f}%\")"
   ],
   "metadata": {
    "collapsed": false,
    "pycharm": {
     "name": "#%%\n"
    }
   }
  }
 ],
 "metadata": {
  "kernelspec": {
   "display_name": "Python 3",
   "language": "python",
   "name": "python3"
  },
  "language_info": {
   "codemirror_mode": {
    "name": "ipython",
    "version": 2
   },
   "file_extension": ".py",
   "mimetype": "text/x-python",
   "name": "python",
   "nbconvert_exporter": "python",
   "pygments_lexer": "ipython2",
   "version": "2.7.6"
  }
 },
 "nbformat": 4,
 "nbformat_minor": 0
}