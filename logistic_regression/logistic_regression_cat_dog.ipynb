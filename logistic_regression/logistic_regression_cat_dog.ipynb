{
 "cells": [
  {
   "cell_type": "markdown",
   "source": [
    "Sigmoid函数：\n",
    "\n",
    "$$\n",
    "S(x)=\\frac{1}{1+e^{-x}}\n",
    "$$"
   ],
   "metadata": {
    "collapsed": false,
    "pycharm": {
     "name": "#%% md\n"
    }
   }
  },
  {
   "cell_type": "markdown",
   "source": [
    "$$\n",
    "\\text { BCELoss }=-\\frac{1}{n} \\sum_{i=1}^n\\left[y_i \\cdot \\log p\\left(y_i\\right)+\\left(1-y_i\\right) \\cdot \\log \\left(1-p\\left(y_i\\right)\\right)\\right]\n",
    "$$"
   ],
   "metadata": {
    "collapsed": false,
    "pycharm": {
     "name": "#%% md\n"
    }
   }
  }
 ],
 "metadata": {
  "kernelspec": {
   "display_name": "Python 3",
   "language": "python",
   "name": "python3"
  },
  "language_info": {
   "codemirror_mode": {
    "name": "ipython",
    "version": 2
   },
   "file_extension": ".py",
   "mimetype": "text/x-python",
   "name": "python",
   "nbconvert_exporter": "python",
   "pygments_lexer": "ipython2",
   "version": "2.7.6"
  }
 },
 "nbformat": 4,
 "nbformat_minor": 0
}