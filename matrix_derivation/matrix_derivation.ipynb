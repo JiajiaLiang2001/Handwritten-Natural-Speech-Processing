{
 "cells": [
  {
   "cell_type": "markdown",
   "source": [
    "## 矩阵求导"
   ],
   "metadata": {
    "collapsed": false,
    "pycharm": {
     "name": "#%% md\n"
    }
   }
  },
  {
   "cell_type": "markdown",
   "source": [
    "矩阵乘法：\n",
    "\n",
    "$$ A \\cdot B = C $$\n",
    "\n",
    "$loss$ ：\n",
    "\n",
    "$$ L = \\sum^m_{i}\\sum^n_{j}{(C_{ij} - p)^2} $$"
   ],
   "metadata": {
    "collapsed": false,
    "pycharm": {
     "name": "#%% md\n"
    }
   }
  },
  {
   "cell_type": "markdown",
   "source": [
    "$L$ 对于 $C$ 每一项的导数：\n",
    "\n",
    "$$\n",
    "\\nabla C_{i j}=\\frac{\\partial L}{\\partial C_{i j}}\n",
    "$$"
   ],
   "metadata": {
    "collapsed": false,
    "pycharm": {
     "name": "#%% md\n"
    }
   }
  },
  {
   "cell_type": "markdown",
   "source": [
    "考虑 $dim(A)=dim(B)=dim(C)=(2,2)$，有：\n",
    "\n",
    "$$\n",
    "A=\\left[\\begin{array}{ll}\n",
    "a & b \\\\\n",
    "c & d\n",
    "\\end{array}\\right] \\quad B=\\left[\\begin{array}{ll}\n",
    "e & f \\\\\n",
    "g & h\n",
    "\\end{array}\\right] \\quad C=\\left[\\begin{array}{ll}\n",
    "i & j \\\\\n",
    "k & l\n",
    "\\end{array}\\right]\n",
    "$$\n",
    "\n",
    "$$\n",
    "G=\\frac{\\partial L}{\\partial C}=\\left[\\begin{array}{ll}\n",
    "\\frac{\\partial L}{\\partial i} & \\frac{\\partial L}{\\partial j} \\\\\n",
    "\\frac{\\partial L}{\\partial k} & \\frac{\\partial L}{\\partial l}\n",
    "\\end{array}\\right]=\\left[\\begin{array}{ll}\n",
    "w & x \\\\\n",
    "y & z\n",
    "\\end{array}\\right]\n",
    "$$"
   ],
   "metadata": {
    "collapsed": false,
    "pycharm": {
     "name": "#%% md\n"
    }
   }
  },
  {
   "cell_type": "markdown",
   "source": [
    "展开左边 $A \\times B$ 对应右边 $C$：\n",
    "\n",
    "$$\n",
    "C=\\left[\\begin{array}{ll}\n",
    "i=a e+b g & j=a f+b h \\\\\n",
    "k=c e+d g & l=c f+d h\n",
    "\\end{array}\\right]\n",
    "$$"
   ],
   "metadata": {
    "collapsed": false,
    "pycharm": {
     "name": "#%% md\n"
    }
   }
  },
  {
   "cell_type": "markdown",
   "source": [
    "$L$ 对于 $A$ 每一项的导数：\n",
    "\n",
    "$$ \\triangledown A_{ij} = \\frac{\\partial L}{\\partial A_{ij}} $$\n",
    "\n",
    "$$ \\frac{\\partial L}{\\partial a} = \\frac{\\partial L}{\\partial i} * \\frac{\\partial i}{\\partial a} + \\frac{\\partial L}{\\partial j} * \\frac{\\partial j}{\\partial a} $$\n",
    "\n",
    "$$ \\frac{\\partial L}{\\partial b} = \\frac{\\partial L}{\\partial i} * \\frac{\\partial i}{\\partial b} + \\frac{\\partial L}{\\partial j} * \\frac{\\partial j}{\\partial b} $$\n",
    "\n",
    "$$ \\frac{\\partial L}{\\partial c} = \\frac{\\partial L}{\\partial k} * \\frac{\\partial k}{\\partial c} + \\frac{\\partial L}{\\partial l} * \\frac{\\partial l}{\\partial c} $$\n",
    "\n",
    "$$ \\frac{\\partial L}{\\partial d} = \\frac{\\partial L}{\\partial k} * \\frac{\\partial k}{\\partial d} + \\frac{\\partial L}{\\partial l} * \\frac{\\partial l}{\\partial d} $$\n",
    "\n",
    "$$ \\frac{\\partial L}{\\partial a} = we + xf \\\\ $$\n",
    "$$ \\frac{\\partial L}{\\partial b} = wg + xh \\\\ $$\n",
    "$$ \\frac{\\partial L}{\\partial c} = ye + zf \\\\ $$\n",
    "$$ \\frac{\\partial L}{\\partial d} = yg + zh $$\n",
    "\n",
    "即：\n",
    "\n",
    "$$\n",
    "\\begin{gathered}\n",
    "\\nabla A=\\left[\\begin{array}{cc}\n",
    "w e+x f & w g+x h \\\\\n",
    "y e+z f & y g+z h\n",
    "\\end{array}\\right] \\quad \\nabla A=\\left[\\begin{array}{ll}\n",
    "w & x \\\\\n",
    "y & z\n",
    "\\end{array}\\right]\\left[\\begin{array}{ll}\n",
    "e & g \\\\\n",
    "f & h\n",
    "\\end{array}\\right] \\\\\n",
    "\\nabla A=G \\cdot B^T\n",
    "\\end{gathered}\n",
    "$$"
   ],
   "metadata": {
    "collapsed": false,
    "pycharm": {
     "name": "#%% md\n"
    }
   }
  },
  {
   "cell_type": "markdown",
   "source": [
    "$L$ 对于 $B$ 每一项的导数：\n",
    "\n",
    "$$ \\triangledown B_{ij} = \\frac{\\partial L}{\\partial B_{ij}} $$\n",
    "\n",
    "$$ \\frac{\\partial L}{\\partial e} = \\frac{\\partial L}{\\partial i} * \\frac{\\partial i}{\\partial e} + \\frac{\\partial L}{\\partial k} * \\frac{\\partial k}{\\partial e} $$\n",
    "\n",
    "$$ \\frac{\\partial L}{\\partial f} = \\frac{\\partial L}{\\partial j} * \\frac{\\partial j}{\\partial f} + \\frac{\\partial L}{\\partial l} * \\frac{\\partial l}{\\partial f} $$\n",
    "\n",
    "$$ \\frac{\\partial L}{\\partial g} = \\frac{\\partial L}{\\partial i} * \\frac{\\partial i}{\\partial g} + \\frac{\\partial L}{\\partial k} * \\frac{\\partial k}{\\partial g} $$\n",
    "\n",
    "$$ \\frac{\\partial L}{\\partial h} = \\frac{\\partial L}{\\partial j} * \\frac{\\partial j}{\\partial h} + \\frac{\\partial L}{\\partial l} * \\frac{\\partial l}{\\partial h} $$\n",
    "\n",
    "$$ \\frac{\\partial L}{\\partial e} = wa + yc \\\\ $$\n",
    "$$ \\frac{\\partial L}{\\partial f} = xa + zc \\\\ $$\n",
    "$$ \\frac{\\partial L}{\\partial g} = wb + yd \\\\ $$\n",
    "$$ \\frac{\\partial L}{\\partial h} = xb + zd $$\n",
    "\n",
    "即：\n",
    "\n",
    "$$\n",
    "\\begin{gathered}\n",
    "\\nabla B=\\left[\\begin{array}{cc}\n",
    "w a+y c & x a+z c \\\\\n",
    "w b+y d & x b+z d\n",
    "\\end{array}\\right] \\quad \\nabla B=\\left[\\begin{array}{ll}\n",
    "a & c \\\\\n",
    "b & d\n",
    "\\end{array}\\right]\\left[\\begin{array}{ll}\n",
    "w & x \\\\\n",
    "y & z\n",
    "\\end{array}\\right] \\\\\n",
    "\\nabla B=A^T \\cdot G\n",
    "\\end{gathered}\n",
    "$$"
   ],
   "metadata": {
    "collapsed": false,
    "pycharm": {
     "name": "#%% md\n"
    }
   }
  }
 ],
 "metadata": {
  "kernelspec": {
   "display_name": "Python 3",
   "language": "python",
   "name": "python3"
  },
  "language_info": {
   "codemirror_mode": {
    "name": "ipython",
    "version": 2
   },
   "file_extension": ".py",
   "mimetype": "text/x-python",
   "name": "python",
   "nbconvert_exporter": "python",
   "pygments_lexer": "ipython2",
   "version": "2.7.6"
  }
 },
 "nbformat": 4,
 "nbformat_minor": 0
}